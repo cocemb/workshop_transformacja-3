{
  "nbformat": 4,
  "nbformat_minor": 0,
  "metadata": {
    "colab": {
      "name": "matrix3-day5.ipynb",
      "provenance": [],
      "collapsed_sections": [],
      "mount_file_id": "1Uftqwb4zEpczluWz-xnhrZTcZOPs2mNI",
      "authorship_tag": "ABX9TyP826A+OOYN4GEyO8CSz4LP"
    },
    "kernelspec": {
      "name": "python3",
      "display_name": "Python 3"
    },
    "accelerator": "GPU"
  },
  "cells": [
    {
      "cell_type": "code",
      "metadata": {
        "id": "BBgNSSE0JLNa",
        "colab_type": "code",
        "colab": {
          "base_uri": "https://localhost:8080/",
          "height": 173
        },
        "outputId": "11bd190a-55f9-438b-f6c4-bb3e3975b383"
      },
      "source": [
        "!pip install hyperopt"
      ],
      "execution_count": 4,
      "outputs": [
        {
          "output_type": "stream",
          "text": [
            "Requirement already satisfied: hyperopt in /usr/local/lib/python3.6/dist-packages (0.1.2)\n",
            "Requirement already satisfied: numpy in /usr/local/lib/python3.6/dist-packages (from hyperopt) (1.18.2)\n",
            "Requirement already satisfied: future in /usr/local/lib/python3.6/dist-packages (from hyperopt) (0.16.0)\n",
            "Requirement already satisfied: networkx in /usr/local/lib/python3.6/dist-packages (from hyperopt) (2.4)\n",
            "Requirement already satisfied: tqdm in /usr/local/lib/python3.6/dist-packages (from hyperopt) (4.38.0)\n",
            "Requirement already satisfied: pymongo in /usr/local/lib/python3.6/dist-packages (from hyperopt) (3.10.1)\n",
            "Requirement already satisfied: six in /usr/local/lib/python3.6/dist-packages (from hyperopt) (1.12.0)\n",
            "Requirement already satisfied: scipy in /usr/local/lib/python3.6/dist-packages (from hyperopt) (1.4.1)\n",
            "Requirement already satisfied: decorator>=4.3.0 in /usr/local/lib/python3.6/dist-packages (from networkx->hyperopt) (4.4.2)\n"
          ],
          "name": "stdout"
        }
      ]
    },
    {
      "cell_type": "code",
      "metadata": {
        "id": "h1yeDMMGh2m7",
        "colab_type": "code",
        "outputId": "f4c1c826-7c23-472c-af19-098c897bf18e",
        "colab": {
          "base_uri": "https://localhost:8080/",
          "height": 34
        }
      },
      "source": [
        "cd \"/content/drive/My Drive/Colab Notebooks/matrix/matrix3/workshop_transformacja-3\""
      ],
      "execution_count": 6,
      "outputs": [
        {
          "output_type": "stream",
          "text": [
            "/content/drive/My Drive/Colab Notebooks/matrix/matrix3/workshop_transformacja-3\n"
          ],
          "name": "stdout"
        }
      ]
    },
    {
      "cell_type": "code",
      "metadata": {
        "id": "Nv575UGcr0XZ",
        "colab_type": "code",
        "outputId": "7ae0c524-4b5c-4bcf-d09b-ba5855c6d99e",
        "colab": {
          "base_uri": "https://localhost:8080/",
          "height": 34
        }
      },
      "source": [
        "!ls data"
      ],
      "execution_count": 7,
      "outputs": [
        {
          "output_type": "stream",
          "text": [
            "dw_signnames  test_road_sign  train_road_sign\n"
          ],
          "name": "stdout"
        }
      ]
    },
    {
      "cell_type": "code",
      "metadata": {
        "id": "qdpd47JYr2CY",
        "colab_type": "code",
        "outputId": "92370c08-d148-4925-c733-f37a8ab7590d",
        "colab": {
          "base_uri": "https://localhost:8080/",
          "height": 52
        }
      },
      "source": [
        "import pandas as pd\n",
        "import numpy as np\n",
        "import os\n",
        "import datetime\n",
        "import time\n",
        "\n",
        "import tensorflow as tf\n",
        "from tensorflow.keras.models import Sequential\n",
        "from tensorflow.keras.layers import Conv2D, MaxPool2D, Dense, Flatten, Dropout\n",
        "from tensorflow.keras.utils import to_categorical\n",
        "\n",
        "import matplotlib.pyplot as plt\n",
        "from skimage import color, exposure\n",
        "\n",
        "from sklearn.metrics import accuracy_score\n",
        "\n",
        "from hyperopt import hp, STATUS_OK, tpe, Trials, fmin, space_eval\n",
        "\n",
        "%load_ext tensorboard"
      ],
      "execution_count": 51,
      "outputs": [
        {
          "output_type": "stream",
          "text": [
            "The tensorboard extension is already loaded. To reload it, use:\n",
            "  %reload_ext tensorboard\n"
          ],
          "name": "stdout"
        }
      ]
    },
    {
      "cell_type": "code",
      "metadata": {
        "id": "U9lfOoa9sR0f",
        "colab_type": "code",
        "colab": {}
      },
      "source": [
        "train = pd.read_pickle('data/train_road_sign')\n",
        "test = pd.read_pickle('data/test_road_sign')\n",
        "\n",
        "X_train, y_train = train['features'], train['labels']\n",
        "X_test, y_test = test['features'], test['labels']"
      ],
      "execution_count": 0,
      "outputs": []
    },
    {
      "cell_type": "code",
      "metadata": {
        "id": "qz-4xKRh0nk7",
        "colab_type": "code",
        "outputId": "3a182add-3a21-4af3-f368-6978924517e2",
        "colab": {
          "base_uri": "https://localhost:8080/",
          "height": 34
        }
      },
      "source": [
        "X_train.shape, y_train.shape, X_test.shape, y_test.shape"
      ],
      "execution_count": 11,
      "outputs": [
        {
          "output_type": "execute_result",
          "data": {
            "text/plain": [
              "((34799, 32, 32, 3), (34799,), (4410, 32, 32, 3), (4410,))"
            ]
          },
          "metadata": {
            "tags": []
          },
          "execution_count": 11
        }
      ]
    },
    {
      "cell_type": "code",
      "metadata": {
        "id": "Ket9N8Bosw63",
        "colab_type": "code",
        "colab": {}
      },
      "source": [
        "if y_train.ndim == 1:\n",
        "  y_train = to_categorical(y_train)\n",
        "if y_test.ndim == 1:\n",
        "  y_test = to_categorical(y_test)"
      ],
      "execution_count": 0,
      "outputs": []
    },
    {
      "cell_type": "code",
      "metadata": {
        "id": "9MkStOrnsyQm",
        "colab_type": "code",
        "colab": {}
      },
      "source": [
        "input_shape = X_train.shape[1:]\n",
        "num_classes = y_train.shape[1]"
      ],
      "execution_count": 0,
      "outputs": []
    },
    {
      "cell_type": "code",
      "metadata": {
        "id": "It3rccYftGP4",
        "colab_type": "code",
        "colab": {}
      },
      "source": [
        "def train_model(model, X_train, y_train, params_fit={}):\n",
        "  model.compile(loss='categorical_crossentropy', optimizer='Adam', metrics=['accuracy'])\n",
        "\n",
        "  logdir = os.path.join('logs', datetime.datetime.now().strftime('%Y%m%d-%H%M%S'))\n",
        "  tensorboard_callback = tf.keras.callbacks.TensorBoard(logdir, histogram_freq=1)\n",
        "\n",
        "  model.fit(\n",
        "      X_train,\n",
        "      y_train,\n",
        "      batch_size=params_fit.get('batch_size', 128),\n",
        "      epochs=params_fit.get('epochs', 5),\n",
        "      verbose=params_fit.get('verbose', 1),\n",
        "      # validation_data=params_fit.get('validation_data', (X_test, y_test)),\n",
        "      validation_data=params_fit.get('validation_data', (X_train, y_train)),\n",
        "      callbacks=[tensorboard_callback]\n",
        "  )\n",
        "\n",
        "  return model\n",
        "\n",
        "def predict(model_trained, X_test, y_test, scoring=accuracy_score):\n",
        "  y_test_norm = np.argmax(y_test, axis=1)\n",
        "\n",
        "  y_pred_prob = model_trained.predict(X_test)\n",
        "  y_pred = np.argmax(y_pred_prob, axis=1)\n",
        "\n",
        "  return scoring(y_test_norm, y_pred)\n",
        "\n",
        "def get_cnn_v5(input_shape, num_classes):\n",
        "  return Sequential([\n",
        "    Conv2D(filters=32, kernel_size=(3, 3), activation='relu', input_shape=input_shape),\n",
        "    Conv2D(filters=32, kernel_size=(3, 3), activation='relu', padding='same'),\n",
        "    MaxPool2D(),\n",
        "    Dropout(0.3),\n",
        "\n",
        "    Conv2D(filters=64, kernel_size=(3, 3), activation='relu', padding='same'),\n",
        "    Conv2D(filters=64, kernel_size=(3, 3), activation='relu'),\n",
        "    MaxPool2D(),\n",
        "    Dropout(0.3),\n",
        "\n",
        "    Conv2D(filters=64, kernel_size=(3, 3), activation='relu', padding='same'),\n",
        "    Conv2D(filters=64, kernel_size=(3, 3), activation='relu'),\n",
        "    MaxPool2D(),\n",
        "    Dropout(0.3),\n",
        "\n",
        "    Flatten(),\n",
        "    \n",
        "    Dense(1024, activation='relu'),\n",
        "    Dropout(0.3),\n",
        "\n",
        "    Dense(1024, activation='relu'),\n",
        "    Dropout(0.3),\n",
        "\n",
        "    Dense(num_classes, activation='softmax')\n",
        "  ])\n",
        "\n",
        "def train_and_predict(model):\n",
        "  model_trained = train_model(model, X_train, y_train)\n",
        "  return predict(model_trained, X_test, y_test)"
      ],
      "execution_count": 0,
      "outputs": []
    },
    {
      "cell_type": "code",
      "metadata": {
        "id": "X2Dch8OGvFiX",
        "colab_type": "code",
        "outputId": "62c61708-487a-456d-8bb5-a5ce9d3da5a3",
        "colab": {
          "base_uri": "https://localhost:8080/",
          "height": 208
        }
      },
      "source": [
        "# get_cnn_v5(input_shape, num_classes).summary()\n",
        "train_and_predict(get_cnn_v5(input_shape, num_classes))\n"
      ],
      "execution_count": 14,
      "outputs": [
        {
          "output_type": "stream",
          "text": [
            "Epoch 1/5\n",
            "272/272 [==============================] - 13s 49ms/step - loss: 2.4156 - accuracy: 0.3285 - val_loss: 0.9561 - val_accuracy: 0.7139\n",
            "Epoch 2/5\n",
            "272/272 [==============================] - 12s 46ms/step - loss: 0.8584 - accuracy: 0.7264 - val_loss: 0.3495 - val_accuracy: 0.8915\n",
            "Epoch 3/5\n",
            "272/272 [==============================] - 12s 46ms/step - loss: 0.4587 - accuracy: 0.8503 - val_loss: 0.1684 - val_accuracy: 0.9457\n",
            "Epoch 4/5\n",
            "272/272 [==============================] - 12s 46ms/step - loss: 0.3041 - accuracy: 0.9037 - val_loss: 0.0865 - val_accuracy: 0.9747\n",
            "Epoch 5/5\n",
            "272/272 [==============================] - 13s 46ms/step - loss: 0.2486 - accuracy: 0.9243 - val_loss: 0.1120 - val_accuracy: 0.9658\n"
          ],
          "name": "stdout"
        },
        {
          "output_type": "execute_result",
          "data": {
            "text/plain": [
              "0.9281179138321995"
            ]
          },
          "metadata": {
            "tags": []
          },
          "execution_count": 14
        }
      ]
    },
    {
      "cell_type": "code",
      "metadata": {
        "id": "w26mqOUG9kE-",
        "colab_type": "code",
        "colab": {}
      },
      "source": [
        "def func_obj(params):\n",
        "  model = get_cnn_v5(input_shape, num_classes)\n",
        "  model.compile(loss='categorical_crossentropy', optimizer='Adam', metrics=['accuracy'])\n",
        "\n",
        "  model.fit(\n",
        "      X_train,\n",
        "      y_train,\n",
        "      batch_size=int(params.get('batch_size', 128)),\n",
        "      epochs=int(params.get('epochs', 5)),\n",
        "      verbose=int(params.get('verbose', 0)),\n",
        "  )\n",
        "\n",
        "  accuracy = model.evaluate(X_test, y_test)[0]\n",
        "  print(params, 'accuracy={}'.format(accuracy))\n",
        "\n",
        "  return {'loss': -accuracy, 'status': STATUS_OK, 'model': model}"
      ],
      "execution_count": 0,
      "outputs": []
    },
    {
      "cell_type": "code",
      "metadata": {
        "id": "5kOWslvxLRSn",
        "colab_type": "code",
        "colab": {
          "base_uri": "https://localhost:8080/",
          "height": 347
        },
        "outputId": "c584878d-0120-4251-f962-19386bcdf046"
      },
      "source": [
        "space = {\n",
        "    'batch_size': hp.quniform('batch_size', 50, 200, 20),\n",
        "}\n",
        "\n",
        "best = fmin(\n",
        "    func_obj,\n",
        "    space,\n",
        "    tpe.suggest,\n",
        "    1,\n",
        "    Trials()\n",
        ")"
      ],
      "execution_count": 16,
      "outputs": [
        {
          "output_type": "stream",
          "text": [
            "  1/138 [..............................]\n",
            " - ETA: 0s - loss: 0.1308 - accuracy: 0.9688\n",
            "\b\b\b\b\b\b\b\b\b\b\b\b\b\b\b\b\b\b\b\b\b\b\b\b\b\b\b\b\b\b\b\b\b\b\b\b\b\b\b\b\b\b\b\b\b\b\b\b\b\b\b\b\b\b\b\b\b\b\b\b\b\b\b\b\b\b\b\b\b\b\b\b\b\b\b\b\b\b\b\b\b\b\b\b\n",
            " 15/138 [==>...........................]\n",
            " - ETA: 0s - loss: 0.1949 - accuracy: 0.9604\n",
            "\b\b\b\b\b\b\b\b\b\b\b\b\b\b\b\b\b\b\b\b\b\b\b\b\b\b\b\b\b\b\b\b\b\b\b\b\b\b\b\b\b\b\b\b\b\b\b\b\b\b\b\b\b\b\b\b\b\b\b\b\b\b\b\b\b\b\b\b\b\b\b\b\b\b\b\b\b\b\b\b\b\b\b\b\n",
            " 27/138 [====>.........................]\n",
            " - ETA: 0s - loss: 0.2489 - accuracy: 0.9479\n",
            "\b\b\b\b\b\b\b\b\b\b\b\b\b\b\b\b\b\b\b\b\b\b\b\b\b\b\b\b\b\b\b\b\b\b\b\b\b\b\b\b\b\b\b\b\b\b\b\b\b\b\b\b\b\b\b\b\b\b\b\b\b\b\b\b\b\b\b\b\b\b\b\b\b\b\b\b\b\b\b\b\b\b\b\b\n",
            " 39/138 [=======>......................]\n",
            " - ETA: 0s - loss: 0.1788 - accuracy: 0.9615\n",
            "\b\b\b\b\b\b\b\b\b\b\b\b\b\b\b\b\b\b\b\b\b\b\b\b\b\b\b\b\b\b\b\b\b\b\b\b\b\b\b\b\b\b\b\b\b\b\b\b\b\b\b\b\b\b\b\b\b\b\b\b\b\b\b\b\b\b\b\b\b\b\b\b\b\b\b\b\b\b\b\b\b\b\b\b\n",
            " 51/138 [==========>...................]\n",
            " - ETA: 0s - loss: 0.1912 - accuracy: 0.9504\n",
            "\b\b\b\b\b\b\b\b\b\b\b\b\b\b\b\b\b\b\b\b\b\b\b\b\b\b\b\b\b\b\b\b\b\b\b\b\b\b\b\b\b\b\b\b\b\b\b\b\b\b\b\b\b\b\b\b\b\b\b\b\b\b\b\b\b\b\b\b\b\b\b\b\b\b\b\b\b\b\b\b\b\b\b\b\n",
            " 62/138 [============>.................]\n",
            " - ETA: 0s - loss: 0.1749 - accuracy: 0.9536\n",
            "\b\b\b\b\b\b\b\b\b\b\b\b\b\b\b\b\b\b\b\b\b\b\b\b\b\b\b\b\b\b\b\b\b\b\b\b\b\b\b\b\b\b\b\b\b\b\b\b\b\b\b\b\b\b\b\b\b\b\b\b\b\b\b\b\b\b\b\b\b\b\b\b\b\b\b\b\b\b\b\b\b\b\b\b\n",
            " 75/138 [===============>..............]\n",
            " - ETA: 0s - loss: 0.1504 - accuracy: 0.9596\n",
            "\b\b\b\b\b\b\b\b\b\b\b\b\b\b\b\b\b\b\b\b\b\b\b\b\b\b\b\b\b\b\b\b\b\b\b\b\b\b\b\b\b\b\b\b\b\b\b\b\b\b\b\b\b\b\b\b\b\b\b\b\b\b\b\b\b\b\b\b\b\b\b\b\b\b\b\b\b\b\b\b\b\b\b\b\n",
            " 87/138 [=================>............]\n",
            " - ETA: 0s - loss: 0.1341 - accuracy: 0.9648\n",
            "\b\b\b\b\b\b\b\b\b\b\b\b\b\b\b\b\b\b\b\b\b\b\b\b\b\b\b\b\b\b\b\b\b\b\b\b\b\b\b\b\b\b\b\b\b\b\b\b\b\b\b\b\b\b\b\b\b\b\b\b\b\b\b\b\b\b\b\b\b\b\b\b\b\b\b\b\b\b\b\b\b\b\b\b\n",
            " 97/138 [====================>.........]\n",
            " - ETA: 0s - loss: 0.1233 - accuracy: 0.9671\n",
            "\b\b\b\b\b\b\b\b\b\b\b\b\b\b\b\b\b\b\b\b\b\b\b\b\b\b\b\b\b\b\b\b\b\b\b\b\b\b\b\b\b\b\b\b\b\b\b\b\b\b\b\b\b\b\b\b\b\b\b\b\b\b\b\b\b\b\b\b\b\b\b\b\b\b\b\b\b\b\b\b\b\b\b\b\n",
            "107/138 [======================>.......]\n",
            " - ETA: 0s - loss: 0.1441 - accuracy: 0.9632\n",
            "\b\b\b\b\b\b\b\b\b\b\b\b\b\b\b\b\b\b\b\b\b\b\b\b\b\b\b\b\b\b\b\b\b\b\b\b\b\b\b\b\b\b\b\b\b\b\b\b\b\b\b\b\b\b\b\b\b\b\b\b\b\b\b\b\b\b\b\b\b\b\b\b\b\b\b\b\b\b\b\b\b\b\b\b\n",
            "116/138 [========================>.....]\n",
            " - ETA: 0s - loss: 0.1331 - accuracy: 0.9661\n",
            "\b\b\b\b\b\b\b\b\b\b\b\b\b\b\b\b\b\b\b\b\b\b\b\b\b\b\b\b\b\b\b\b\b\b\b\b\b\b\b\b\b\b\b\b\b\b\b\b\b\b\b\b\b\b\b\b\b\b\b\b\b\b\b\b\b\b\b\b\b\b\b\b\b\b\b\b\b\b\b\b\b\b\b\b\n",
            "127/138 [==========================>...]\n",
            " - ETA: 0s - loss: 0.1236 - accuracy: 0.9685\n",
            "\b\b\b\b\b\b\b\b\b\b\b\b\b\b\b\b\b\b\b\b\b\b\b\b\b\b\b\b\b\b\b\b\b\b\b\b\b\b\b\b\b\b\b\b\b\b\b\b\b\b\b\b\b\b\b\b\b\b\b\b\b\b\b\b\b\b\b\b\b\b\b\b\b\b\b\b\b\b\b\b\b\b\b\b\n",
            "138/138 [==============================]\n",
            " - ETA: 0s - loss: 0.1179 - accuracy: 0.9696\n",
            "\b\b\b\b\b\b\b\b\b\b\b\b\b\b\b\b\b\b\b\b\b\b\b\b\b\b\b\b\b\b\b\b\b\b\b\b\b\b\b\b\b\b\b\b\b\b\b\b\b\b\b\b\b\b\b\b\b\b\b\b\b\b\b\b\b\b\b\b\b\b\b\b\b\b\b\b\b\b\b\b\b\b\b\b\n",
            "138/138 [==============================]\n",
            " - 1s 5ms/step - loss: 0.1179 - accuracy: 0.9696\n",
            "\n",
            "{'batch_size': 80.0}\n",
            "accuracy=0.11790632456541061\n",
            "100%|██████████| 1/1 [00:30<00:00, 30.43s/it, best loss: -0.11790632456541061]\n"
          ],
          "name": "stdout"
        }
      ]
    },
    {
      "cell_type": "code",
      "metadata": {
        "id": "xXgKU4ZKMDzS",
        "colab_type": "code",
        "colab": {}
      },
      "source": [
        "def get_model(params):\n",
        "  return Sequential([\n",
        "    Conv2D(filters=32, kernel_size=(3, 3), activation='relu', input_shape=input_shape),\n",
        "    Conv2D(filters=32, kernel_size=(3, 3), activation='relu', padding='same'),\n",
        "    Conv2D(filters=32, kernel_size=(3, 3), activation='relu', padding='same'),\n",
        "    MaxPool2D(),\n",
        "    Dropout(params['dropout_cnn_block_one']),\n",
        "\n",
        "    Conv2D(filters=64, kernel_size=(3, 3), activation='relu', padding='same'),\n",
        "    Conv2D(filters=64, kernel_size=(3, 3), activation='relu', padding='same'),\n",
        "    Conv2D(filters=64, kernel_size=(3, 3), activation='relu'),\n",
        "    MaxPool2D(),\n",
        "    Dropout(params['dropout_cnn_block_two']),\n",
        "\n",
        "    Conv2D(filters=128, kernel_size=(3, 3), activation='relu', padding='same'),\n",
        "    Conv2D(filters=128, kernel_size=(3, 3), activation='relu', padding='same'),\n",
        "    Conv2D(filters=128, kernel_size=(3, 3), activation='relu'),\n",
        "    MaxPool2D(),\n",
        "    Dropout(params['dropout_cnn_block_three']),\n",
        "\n",
        "    Flatten(),\n",
        "    \n",
        "    Dense(1024, activation='relu'),\n",
        "    Dropout(params['dropout_dense_block_one']),\n",
        "\n",
        "    Dense(1024, activation='relu'),\n",
        "    Dropout(params['dropout_dense_block_two']),\n",
        "\n",
        "    Dense(num_classes, activation='softmax')\n",
        "  ])"
      ],
      "execution_count": 0,
      "outputs": []
    },
    {
      "cell_type": "code",
      "metadata": {
        "id": "DlFLFPTmfcbf",
        "colab_type": "code",
        "colab": {}
      },
      "source": [
        "def func_obj_nn(args):\n",
        "  model = get_model(args)\n",
        "  model.compile(loss='categorical_crossentropy', optimizer='Adam', metrics=['accuracy'])\n",
        "\n",
        "  model.fit(\n",
        "      X_train,\n",
        "      y_train,\n",
        "      batch_size=int(args.get('batch_size', 128)),\n",
        "      epochs=5, #int(args.get('epochs', 5)),\n",
        "      verbose=0 #int(args.get('verbose', 0)),\n",
        "  )\n",
        "\n",
        "  score = model.evaluate(X_test, y_test, verbose=0)\n",
        "  accuracy = score[1]\n",
        "  print(args, 'accuracy={}'.format(accuracy))\n",
        "\n",
        "  return {\n",
        "      'loss': -accuracy,\n",
        "      'status': STATUS_OK,\n",
        "      'eval_time': time.time(),\n",
        "      'model': model}"
      ],
      "execution_count": 0,
      "outputs": []
    },
    {
      "cell_type": "code",
      "metadata": {
        "id": "pO9yr6ZwNSze",
        "colab_type": "code",
        "colab": {
          "base_uri": "https://localhost:8080/",
          "height": 1000
        },
        "outputId": "7e0b8887-f65d-49e5-dc87-5d8a34d38e9d"
      },
      "source": [
        "space_nn = {\n",
        "    'batch_size': hp.quniform('batch_size', 50, 200, 20),\n",
        "    'dropout_cnn_block_one': hp.uniform('dropout_cnn_block_one', 0, 1),\n",
        "    'dropout_cnn_block_two': hp.uniform('dropout_cnn_block_two', 0, 1),\n",
        "    'dropout_cnn_block_three': hp.uniform('dropout_cnn_block_three', 0, 1),\n",
        "    'dropout_dense_block_one': hp.uniform('dropout_dense_block_one', 0, 1),\n",
        "    'dropout_dense_block_two': hp.uniform('dropout_dense_block_two', 0, 1),\n",
        "}\n",
        "\n",
        "best = fmin(\n",
        "    fn=func_obj_nn,\n",
        "    space=space_nn,\n",
        "    algo=tpe.suggest,\n",
        "    max_evals=30,\n",
        "    trials=Trials()\n",
        ")\n",
        "space_eval(space_nn, best)"
      ],
      "execution_count": 79,
      "outputs": [
        {
          "output_type": "stream",
          "text": [
            "{'batch_size': 180.0, 'dropout_cnn_block_one': 0.5516514640026787, 'dropout_cnn_block_three': 0.40086781535572935, 'dropout_cnn_block_two': 0.06374518481386171, 'dropout_dense_block_one': 0.22915992378084082, 'dropout_dense_block_two': 0.9776527498500952}\n",
            "accuracy=0.440362811088562\n",
            "{'batch_size': 160.0, 'dropout_cnn_block_one': 0.8649225132156719, 'dropout_cnn_block_three': 0.20163848843931675, 'dropout_cnn_block_two': 0.15896160646400814, 'dropout_dense_block_one': 0.2682092312463078, 'dropout_dense_block_two': 0.3562729451420228}\n",
            "accuracy=0.8514739274978638\n",
            "{'batch_size': 180.0, 'dropout_cnn_block_one': 0.11909867238413574, 'dropout_cnn_block_three': 0.271603183840886, 'dropout_cnn_block_two': 0.9305380709575187, 'dropout_dense_block_one': 0.6181962654100011, 'dropout_dense_block_two': 0.9033670575104901}\n",
            "accuracy=0.2825396955013275\n",
            "{'batch_size': 180.0, 'dropout_cnn_block_one': 0.6705379995047412, 'dropout_cnn_block_three': 0.0074086920609856, 'dropout_cnn_block_two': 0.9919587796335375, 'dropout_dense_block_one': 0.8205014871477714, 'dropout_dense_block_two': 0.7433543548601876}\n",
            "accuracy=0.0476190485060215\n",
            "{'batch_size': 200.0, 'dropout_cnn_block_one': 0.8633580252885377, 'dropout_cnn_block_three': 0.1539894727904445, 'dropout_cnn_block_two': 0.6212012246150708, 'dropout_dense_block_one': 0.4381744899621949, 'dropout_dense_block_two': 0.8619484410910623}\n",
            "accuracy=0.13333334028720856\n",
            "{'batch_size': 180.0, 'dropout_cnn_block_one': 0.08368040067002391, 'dropout_cnn_block_three': 0.2955752196504331, 'dropout_cnn_block_two': 0.8524526345308109, 'dropout_dense_block_one': 0.757901192297612, 'dropout_dense_block_two': 0.8564326741528797}\n",
            "accuracy=0.579365074634552\n",
            "{'batch_size': 100.0, 'dropout_cnn_block_one': 0.7636345348625762, 'dropout_cnn_block_three': 0.8092179912825663, 'dropout_cnn_block_two': 0.828245863577405, 'dropout_dense_block_one': 0.04697886670302431, 'dropout_dense_block_two': 0.7520491992724262}\n",
            "accuracy=0.31995463371276855\n",
            "{'batch_size': 180.0, 'dropout_cnn_block_one': 0.5954917602569657, 'dropout_cnn_block_three': 0.4677815901180211, 'dropout_cnn_block_two': 0.27582819401022785, 'dropout_dense_block_one': 0.5691998578015444, 'dropout_dense_block_two': 0.7874001474425425}\n",
            "accuracy=0.8650793433189392\n",
            "{'batch_size': 100.0, 'dropout_cnn_block_one': 0.17882861983109932, 'dropout_cnn_block_three': 0.8179360029771728, 'dropout_cnn_block_two': 0.39942287848606994, 'dropout_dense_block_one': 0.07148921077772341, 'dropout_dense_block_two': 0.7302156135259332}\n",
            "accuracy=0.8213151693344116\n",
            "{'batch_size': 120.0, 'dropout_cnn_block_one': 0.8929202531897218, 'dropout_cnn_block_three': 0.3246128650043407, 'dropout_cnn_block_two': 0.6579777725066692, 'dropout_dense_block_one': 0.8466323545103926, 'dropout_dense_block_two': 0.8895456479234812}\n",
            "accuracy=0.23650793731212616\n",
            "{'batch_size': 180.0, 'dropout_cnn_block_one': 0.5222989485018437, 'dropout_cnn_block_three': 0.06640161390373567, 'dropout_cnn_block_two': 0.3553839666093178, 'dropout_dense_block_one': 0.8401710495660781, 'dropout_dense_block_two': 0.6762316539850399}\n",
            "accuracy=0.776190459728241\n",
            "{'batch_size': 120.0, 'dropout_cnn_block_one': 0.4484166351416814, 'dropout_cnn_block_three': 0.5299931457740635, 'dropout_cnn_block_two': 0.9796908699958857, 'dropout_dense_block_one': 0.10966857036516897, 'dropout_dense_block_two': 0.9262305202363413}\n",
            "accuracy=0.04829932004213333\n",
            "{'batch_size': 60.0, 'dropout_cnn_block_one': 0.4613449293681441, 'dropout_cnn_block_three': 0.3741641243715236, 'dropout_cnn_block_two': 0.29642549049758005, 'dropout_dense_block_one': 0.26064879819916587, 'dropout_dense_block_two': 0.6632579931659045}\n",
            "accuracy=0.9553288221359253\n",
            "{'batch_size': 60.0, 'dropout_cnn_block_one': 0.6218617161316378, 'dropout_cnn_block_three': 0.7603910436160473, 'dropout_cnn_block_two': 0.6025946013288984, 'dropout_dense_block_one': 0.5766822333743858, 'dropout_dense_block_two': 0.7261074174952962}\n",
            "accuracy=0.6775510311126709\n",
            "{'batch_size': 100.0, 'dropout_cnn_block_one': 0.4986901118681395, 'dropout_cnn_block_three': 0.13915786121436846, 'dropout_cnn_block_two': 0.12904675927867415, 'dropout_dense_block_one': 0.20341744258843308, 'dropout_dense_block_two': 0.5275783169920769}\n",
            "accuracy=0.9394558072090149\n",
            "{'batch_size': 200.0, 'dropout_cnn_block_one': 0.1510645912788745, 'dropout_cnn_block_three': 0.7242335422219944, 'dropout_cnn_block_two': 0.41891423575755504, 'dropout_dense_block_one': 0.3118984516194385, 'dropout_dense_block_two': 0.045955813298991344}\n",
            "accuracy=0.961904764175415\n",
            "{'batch_size': 200.0, 'dropout_cnn_block_one': 0.3578233960724089, 'dropout_cnn_block_three': 0.08961378715048218, 'dropout_cnn_block_two': 0.19799525593270006, 'dropout_dense_block_one': 0.7799710596700252, 'dropout_dense_block_two': 0.011819861046506674}\n",
            "accuracy=0.9589568972587585\n",
            "{'batch_size': 160.0, 'dropout_cnn_block_one': 0.05114279644928732, 'dropout_cnn_block_three': 0.3169327228191019, 'dropout_cnn_block_two': 0.529533930489929, 'dropout_dense_block_one': 0.5349174878716755, 'dropout_dense_block_two': 0.17275641974130806}\n",
            "accuracy=0.9594104290008545\n",
            "{'batch_size': 160.0, 'dropout_cnn_block_one': 0.9322899581814503, 'dropout_cnn_block_three': 0.7700396995714249, 'dropout_cnn_block_two': 0.8634038774229691, 'dropout_dense_block_one': 0.23209698661224454, 'dropout_dense_block_two': 0.7660065378107067}\n",
            "accuracy=0.0981859415769577\n",
            "{'batch_size': 80.0, 'dropout_cnn_block_one': 0.3507963669476031, 'dropout_cnn_block_three': 0.9851690456030608, 'dropout_cnn_block_two': 0.32991309275599845, 'dropout_dense_block_one': 0.4161520446341048, 'dropout_dense_block_two': 0.37498648786840494}\n",
            "accuracy=0.054421767592430115\n",
            "{'batch_size': 140.0, 'dropout_cnn_block_one': 0.22731791374226773, 'dropout_cnn_block_three': 0.6217307576441957, 'dropout_cnn_block_two': 0.4997776369843278, 'dropout_dense_block_one': 0.9970291390965742, 'dropout_dense_block_two': 0.054645249181879366}\n",
            "accuracy=0.054421767592430115\n",
            "{'batch_size': 140.0, 'dropout_cnn_block_one': 0.001247412132776765, 'dropout_cnn_block_three': 0.5903449721834368, 'dropout_cnn_block_two': 0.4568753123960231, 'dropout_dense_block_one': 0.3650145555106689, 'dropout_dense_block_two': 0.13793109924208297}\n",
            "accuracy=0.97981858253479\n",
            "{'batch_size': 140.0, 'dropout_cnn_block_one': 0.26512735399937215, 'dropout_cnn_block_three': 0.6273811882181733, 'dropout_cnn_block_two': 0.7210925241040598, 'dropout_dense_block_one': 0.3777947779547019, 'dropout_dense_block_two': 0.14850576125789627}\n",
            "accuracy=0.916553258895874\n",
            "{'batch_size': 140.0, 'dropout_cnn_block_one': 0.019403807207627244, 'dropout_cnn_block_three': 0.9827982000995445, 'dropout_cnn_block_two': 0.4736368697346638, 'dropout_dense_block_one': 0.3539902999748012, 'dropout_dense_block_two': 0.23828782203637483}\n",
            "accuracy=0.14603175222873688\n",
            "{'batch_size': 80.0, 'dropout_cnn_block_one': 0.00013461566980987882, 'dropout_cnn_block_three': 0.8967484144274136, 'dropout_cnn_block_two': 0.42938341715209755, 'dropout_dense_block_one': 0.66386354318521, 'dropout_dense_block_two': 0.08173113166803755}\n",
            "accuracy=0.7324262857437134\n",
            "{'batch_size': 200.0, 'dropout_cnn_block_one': 0.15275504450693037, 'dropout_cnn_block_three': 0.6379459829207128, 'dropout_cnn_block_two': 0.7273153818950936, 'dropout_dense_block_one': 0.1421984292902032, 'dropout_dense_block_two': 0.3099595708677375}\n",
            "accuracy=0.9240362644195557\n",
            "{'batch_size': 160.0, 'dropout_cnn_block_one': 0.28216483537633974, 'dropout_cnn_block_three': 0.7002124398560783, 'dropout_cnn_block_two': 0.22121419322844366, 'dropout_dense_block_one': 0.46103416561371835, 'dropout_dense_block_two': 0.4645973092395805}\n",
            "accuracy=0.9736961722373962\n",
            "{'batch_size': 140.0, 'dropout_cnn_block_one': 0.3084493681369646, 'dropout_cnn_block_three': 0.5261031834531191, 'dropout_cnn_block_two': 0.24939707560332347, 'dropout_dense_block_one': 0.4829721309054777, 'dropout_dense_block_two': 0.47789667728918683}\n",
            "accuracy=0.9723355770111084\n",
            "{'batch_size': 160.0, 'dropout_cnn_block_one': 0.22625416401771298, 'dropout_cnn_block_three': 0.9032237274821224, 'dropout_cnn_block_two': 0.1146427651589213, 'dropout_dense_block_one': 0.683985413356433, 'dropout_dense_block_two': 0.5618917033239423}\n",
            "accuracy=0.7024943232536316\n",
            "{'batch_size': 120.0, 'dropout_cnn_block_one': 0.37794201978067277, 'dropout_cnn_block_three': 0.6939055084616818, 'dropout_cnn_block_two': 0.21652569361176174, 'dropout_dense_block_one': 0.4752668738542348, 'dropout_dense_block_two': 0.44649335898647435}\n",
            "accuracy=0.9494330883026123\n",
            "100%|██████████| 30/30 [11:17<00:00, 22.59s/it, best loss: -0.97981858253479]\n"
          ],
          "name": "stdout"
        },
        {
          "output_type": "execute_result",
          "data": {
            "text/plain": [
              "{'batch_size': 140.0,\n",
              " 'dropout_cnn_block_one': 0.001247412132776765,\n",
              " 'dropout_cnn_block_three': 0.5903449721834368,\n",
              " 'dropout_cnn_block_two': 0.4568753123960231,\n",
              " 'dropout_dense_block_one': 0.3650145555106689,\n",
              " 'dropout_dense_block_two': 0.13793109924208297}"
            ]
          },
          "metadata": {
            "tags": []
          },
          "execution_count": 79
        }
      ]
    },
    {
      "cell_type": "code",
      "metadata": {
        "id": "mEoX2TjIN2Ry",
        "colab_type": "code",
        "colab": {
          "base_uri": "https://localhost:8080/",
          "height": 781
        },
        "outputId": "c79686c9-9f29-463d-b0d1-df3f12337cb5"
      },
      "source": [
        "get_model({\n",
        "    'dropout_cnn_block_one': 0.5,\n",
        "    'dropout_cnn_block_two': 0.5,\n",
        "    'dropout_cnn_block_three': 0.5,\n",
        "    'dropout_dense_block_one': 0.5,\n",
        "    'dropout_dense_block_two': 0.5\n",
        "    }).summary()"
      ],
      "execution_count": 31,
      "outputs": [
        {
          "output_type": "stream",
          "text": [
            "Model: \"sequential_31\"\n",
            "_________________________________________________________________\n",
            "Layer (type)                 Output Shape              Param #   \n",
            "=================================================================\n",
            "conv2d_188 (Conv2D)          (None, 30, 30, 32)        896       \n",
            "_________________________________________________________________\n",
            "conv2d_189 (Conv2D)          (None, 30, 30, 32)        9248      \n",
            "_________________________________________________________________\n",
            "max_pooling2d_94 (MaxPooling (None, 15, 15, 32)        0         \n",
            "_________________________________________________________________\n",
            "dropout_155 (Dropout)        (None, 15, 15, 32)        0         \n",
            "_________________________________________________________________\n",
            "conv2d_190 (Conv2D)          (None, 15, 15, 64)        18496     \n",
            "_________________________________________________________________\n",
            "conv2d_191 (Conv2D)          (None, 13, 13, 64)        36928     \n",
            "_________________________________________________________________\n",
            "max_pooling2d_95 (MaxPooling (None, 6, 6, 64)          0         \n",
            "_________________________________________________________________\n",
            "dropout_156 (Dropout)        (None, 6, 6, 64)          0         \n",
            "_________________________________________________________________\n",
            "conv2d_192 (Conv2D)          (None, 6, 6, 128)         73856     \n",
            "_________________________________________________________________\n",
            "conv2d_193 (Conv2D)          (None, 4, 4, 128)         147584    \n",
            "_________________________________________________________________\n",
            "max_pooling2d_96 (MaxPooling (None, 2, 2, 128)         0         \n",
            "_________________________________________________________________\n",
            "dropout_157 (Dropout)        (None, 2, 2, 128)         0         \n",
            "_________________________________________________________________\n",
            "flatten_31 (Flatten)         (None, 512)               0         \n",
            "_________________________________________________________________\n",
            "dense_93 (Dense)             (None, 1024)              525312    \n",
            "_________________________________________________________________\n",
            "dropout_158 (Dropout)        (None, 1024)              0         \n",
            "_________________________________________________________________\n",
            "dense_94 (Dense)             (None, 1024)              1049600   \n",
            "_________________________________________________________________\n",
            "dropout_159 (Dropout)        (None, 1024)              0         \n",
            "_________________________________________________________________\n",
            "dense_95 (Dense)             (None, 43)                44075     \n",
            "=================================================================\n",
            "Total params: 1,905,995\n",
            "Trainable params: 1,905,995\n",
            "Non-trainable params: 0\n",
            "_________________________________________________________________\n"
          ],
          "name": "stdout"
        }
      ]
    },
    {
      "cell_type": "code",
      "metadata": {
        "id": "kkf4h2QvmzYs",
        "colab_type": "code",
        "colab": {
          "base_uri": "https://localhost:8080/",
          "height": 121
        },
        "outputId": "c1ab2a62-4684-47d5-8986-4c9e2af1eac6"
      },
      "source": [
        "space"
      ],
      "execution_count": 35,
      "outputs": [
        {
          "output_type": "execute_result",
          "data": {
            "text/plain": [
              "{'batch_size': <hyperopt.pyll.base.Apply at 0x7fccbc32f358>,\n",
              " 'dropout_cnn_block_one': <hyperopt.pyll.base.Apply at 0x7fccbc32f400>,\n",
              " 'dropout_cnn_block_three': <hyperopt.pyll.base.Apply at 0x7fccbc32f208>,\n",
              " 'dropout_cnn_block_two': <hyperopt.pyll.base.Apply at 0x7fccbc32f7b8>,\n",
              " 'dropout_dense_block_one': <hyperopt.pyll.base.Apply at 0x7fccbc32f278>,\n",
              " 'dropout_dense_block_two': <hyperopt.pyll.base.Apply at 0x7fccbc4154e0>}"
            ]
          },
          "metadata": {
            "tags": []
          },
          "execution_count": 35
        }
      ]
    },
    {
      "cell_type": "code",
      "metadata": {
        "id": "t6AJ81aZnyVZ",
        "colab_type": "code",
        "colab": {}
      },
      "source": [
        ""
      ],
      "execution_count": 0,
      "outputs": []
    }
  ]
}